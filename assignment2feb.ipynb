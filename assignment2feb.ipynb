{
 "cells": [
  {
   "cell_type": "raw",
   "id": "c61b5fe9-6be1-4e71-9602-65f97408e5ae",
   "metadata": {},
   "source": [
    "Qus1. Explain with an example each when to use a for loop and a while loop."
   ]
  },
  {
   "cell_type": "raw",
   "id": "7169d5af-80c2-4752-ab34-655900936f40",
   "metadata": {},
   "source": [
    "Solution 1:while loop\n",
    "a while loop is used to execute a block of statements repeatedly until a given condition is satisfied. And when the condition becomes false, the line immediately after the loop in the program is executed.\n",
    "example:\n",
    "a=10\n",
    "\n",
    "while a>=1:\n",
    "    print(a)\n",
    "    a=a-1\n",
    "    \n",
    "for loop\n",
    "For loops are used for sequential traversal. For example: traversing a list or string or array etc. In Python, there is “for in” loop which is similar to for each loop in other languages. Let us learn how to use for in loop for sequential traversals.\n",
    "example:\n",
    "a= 4\n",
    "for i in range(0, a):\n",
    "    print(i)\n"
   ]
  },
  {
   "cell_type": "markdown",
   "id": "df1574c2-ba26-4cb3-9d8f-135f5caef4de",
   "metadata": {},
   "source": [
    "Qus2.write a python program to print the sum and product of the first 10 natural numbers using for and while loop"
   ]
  },
  {
   "cell_type": "code",
   "execution_count": 29,
   "id": "714c37d4-551f-43e8-8f4f-7b2ff7251dfa",
   "metadata": {},
   "outputs": [
    {
     "name": "stdout",
     "output_type": "stream",
     "text": [
      "The sum is 55\n"
     ]
    }
   ],
   "source": [
    "#while loop\n",
    "num = 10\n",
    "sum = 0\n",
    "\n",
    "while(num > 0):\n",
    "        sum =sum+ num\n",
    "        num =num- 1  \n",
    "print(\"The sum is\",sum)  "
   ]
  },
  {
   "cell_type": "code",
   "execution_count": 30,
   "id": "dfc2dbac-090b-4c6d-8089-3ea206bbbe71",
   "metadata": {},
   "outputs": [
    {
     "name": "stdout",
     "output_type": "stream",
     "text": [
      "55\n"
     ]
    }
   ],
   "source": [
    "#for loop\n",
    "num = 10\n",
    "sum = 0\n",
    "for i in range(num+1):\n",
    "     sum=sum+i\n",
    "print(sum)"
   ]
  },
  {
   "cell_type": "raw",
   "id": "2c3c950c-ca44-4d9f-9f85-c9649b105bb5",
   "metadata": {},
   "source": [
    "Q3. Create a python program to compute the electricity bill for a household.\n",
    "\n",
    "The per-unit charges in rupees are as follows: For the first 100 units, the user will be charged Rs. 4.5 per \n",
    "unit, for the next 100 units, the user will be charged Rs. 6 per unit, and for the next 100 units, the user will \n",
    "be charged Rs. 10 per unit, After 300 units and above the user will be charged Rs. 20 per unit.\n",
    "\n",
    "\n",
    "You are required to take the units of electricity consumed in a month from the user as input.\n",
    "\n",
    "\n",
    "Your program must pass this test case: when the unit of electricity consumed by the user in a month is 310,the total electricity bill should be 2250"
   ]
  },
  {
   "cell_type": "code",
   "execution_count": 36,
   "id": "98b9d2b6-15ac-41b1-bf04-83acc356f0bf",
   "metadata": {},
   "outputs": [
    {
     "name": "stdout",
     "output_type": "stream",
     "text": [
      "2250.0\n"
     ]
    }
   ],
   "source": [
    "\n",
    "\n",
    "def calculateBill(units):\n",
    " \n",
    "    if (units <= 100):\n",
    "      \n",
    "        return units * 4.5;\n",
    "     \n",
    "    elif (units <= 200):\n",
    "     \n",
    "        return ((100 * 4.5) +\n",
    "                (units - 100) * 6);\n",
    "     \n",
    "    elif (units <= 300):\n",
    "      \n",
    "        return ((100 * 4.5) +\n",
    "                (100 * 6) +\n",
    "                (units - 200) * 10);\n",
    "     \n",
    "    elif (units > 300):\n",
    "     \n",
    "        return ((100 * 4.5) +\n",
    "                (100 * 6) +\n",
    "                (100 * 10) +\n",
    "                (units - 300) * 20);\n",
    "     \n",
    "    return 0;\n",
    "units=310\n",
    "print(calculateBill(units));\n",
    "    "
   ]
  },
  {
   "cell_type": "markdown",
   "id": "8d6a5da1-04d6-4a35-9379-b7de9bec3b07",
   "metadata": {},
   "source": [
    "Q4. Create a list of numbers from 1 to 100. Use for loop and while loop to calculate the cube of each \n",
    "number and if the cube of that number is divisible by 4 or 5 then append that number in a list and print \n",
    "that list."
   ]
  },
  {
   "cell_type": "code",
   "execution_count": 46,
   "id": "4154e1af-6fdf-43af-b6c4-03028a06d83c",
   "metadata": {},
   "outputs": [
    {
     "name": "stdout",
     "output_type": "stream",
     "text": [
      "[1, 8, 27, 125, 216, 343, 729, 1000, 1331, 2197, 2744, 3375, 4913, 5832, 6859, 9261, 10648, 12167, 15625, 17576, 19683, 24389, 27000, 29791, 35937, 39304, 42875, 50653, 54872, 59319, 68921, 74088, 79507, 91125, 97336, 103823, 117649, 125000, 132651, 148877, 157464, 166375, 185193, 195112, 205379, 226981, 238328, 250047, 274625, 287496, 300763, 328509, 343000, 357911, 389017, 405224, 421875, 456533, 474552, 493039, 531441, 551368, 571787, 614125, 636056, 658503, 704969, 729000, 753571, 804357, 830584, 857375, 912673, 941192, 970299]\n"
     ]
    }
   ],
   "source": [
    "cube=[ i**3 for i in range(1,100) if i% 4 or 5 ==0]\n",
    "print(cube)"
   ]
  },
  {
   "cell_type": "raw",
   "id": "19cc2064-5fab-4ef2-9145-47a94e1cdef7",
   "metadata": {},
   "source": [
    "Write a program to filter count vowels in the below-given string.\n",
    "\n",
    "string = \"I want to become a data scientist\""
   ]
  },
  {
   "cell_type": "code",
   "execution_count": 47,
   "id": "2ddb1a72-52de-4df6-80dc-bb7bbbeb9ace",
   "metadata": {},
   "outputs": [],
   "source": [
    "string=\"I want to become a data scientist\"\n",
    "vowels=list(filter(lambda ch:ch in \"aeiouAEIOU\",string))"
   ]
  },
  {
   "cell_type": "code",
   "execution_count": 48,
   "id": "42bc5deb-62cc-4141-a189-2c3b67b688bc",
   "metadata": {},
   "outputs": [
    {
     "data": {
      "text/plain": [
       "['I', 'a', 'o', 'e', 'o', 'e', 'a', 'a', 'a', 'i', 'e', 'i']"
      ]
     },
     "execution_count": 48,
     "metadata": {},
     "output_type": "execute_result"
    }
   ],
   "source": [
    "vowels"
   ]
  },
  {
   "cell_type": "code",
   "execution_count": null,
   "id": "e01eb189-f11b-4428-8dd2-ece8710838ef",
   "metadata": {},
   "outputs": [],
   "source": []
  }
 ],
 "metadata": {
  "kernelspec": {
   "display_name": "Python 3 (ipykernel)",
   "language": "python",
   "name": "python3"
  },
  "language_info": {
   "codemirror_mode": {
    "name": "ipython",
    "version": 3
   },
   "file_extension": ".py",
   "mimetype": "text/x-python",
   "name": "python",
   "nbconvert_exporter": "python",
   "pygments_lexer": "ipython3",
   "version": "3.10.8"
  }
 },
 "nbformat": 4,
 "nbformat_minor": 5
}
